{
 "cells": [
  {
   "cell_type": "code",
   "execution_count": 1,
   "metadata": {},
   "outputs": [],
   "source": [
    "import cv2 \n",
    "import matplotlib.image as mpimg \n",
    "import matplotlib.pyplot as plt \n",
    "import numpy as np\n",
    "import imageio"
   ]
  },
  {
   "cell_type": "code",
   "execution_count": 2,
   "metadata": {},
   "outputs": [],
   "source": [
    "def get_gray(image):\n",
    "    gray = cv2.cvtColor(image,cv2.COLOR_BGR2GRAY)\n",
    "    return gray "
   ]
  },
  {
   "cell_type": "code",
   "execution_count": 3,
   "metadata": {},
   "outputs": [],
   "source": [
    "def get_blur(image):\n",
    "    blur = cv2.GaussianBlur(image,(5,5),8)\n",
    "    return blur"
   ]
  },
  {
   "cell_type": "code",
   "execution_count": 4,
   "metadata": {},
   "outputs": [],
   "source": [
    "def get_canny(image):\n",
    "    canny = cv2.Canny(image,10,150)\n",
    "    return canny"
   ]
  },
  {
   "cell_type": "code",
   "execution_count": 5,
   "metadata": {},
   "outputs": [],
   "source": [
    "#Manually adjust for the best ROI\n",
    "def get_masked(image):\n",
    "    h,w = image.shape[:2]\n",
    "    roi = np.array([[(0,h),(w/4,3*h/4),(3*w/4,3*h/4),(w,h)]],dtype=np.int32)\n",
    "    blank = np.zeros_like(image)\n",
    "    mask = cv2.fillPoly(blank,roi,255)\n",
    "    masked = cv2.bitwise_and(image,mask)\n",
    "    return masked"
   ]
  },
  {
   "cell_type": "code",
   "execution_count": 6,
   "metadata": {},
   "outputs": [],
   "source": [
    "def get_image_With_lines(image,frame):\n",
    "    rho = 1\n",
    "    theta = np.pi/180\n",
    "    min_line_len = 50\n",
    "    max_gap = 50\n",
    "    threshold = 50\n",
    "    lines = cv2.HoughLinesP(image,rho,theta,threshold,np.array([]),minLineLength=min_line_len,maxLineGap=max_gap)\n",
    "    lines_image = np.zeros((image.shape[0],image.shape[1],3),dtype=np.uint8)\n",
    "    if lines is not None:\n",
    "      for line in lines:\n",
    "        for x1,y1,x2,y2 in line:\n",
    "          cv2.line(frame,(x1,y1),(x2,y2),[255,0,0],15)\n",
    "      a = 1\n",
    "      b = 1\n",
    "      c = 0\n",
    "      image_with_lines = cv2.addWeighted(frame,a,lines_image,b,c) \n",
    "      return image_with_lines\n",
    "    else :\n",
    "      return frame"
   ]
  },
  {
   "cell_type": "markdown",
   "metadata": {},
   "source": [
    "To detect lanes in recorded Video"
   ]
  },
  {
   "cell_type": "code",
   "execution_count": 17,
   "metadata": {},
   "outputs": [],
   "source": [
    "road = cv2.VideoCapture('road.mp4')"
   ]
  },
  {
   "cell_type": "markdown",
   "metadata": {},
   "source": [
    "To mark the lanes"
   ]
  },
  {
   "cell_type": "code",
   "execution_count": 18,
   "metadata": {},
   "outputs": [],
   "source": [
    "ret,frame = road.read()\n",
    "while ret:\n",
    "    ret,frame = road.read()\n",
    "    res= cv2.resize(frame,None,fx=0.5,fy=0.5,interpolation=cv2.INTER_CUBIC)\n",
    "    gray = get_gray(res)\n",
    "    blur = get_blur(gray)\n",
    "    canny = get_canny(blur)\n",
    "    masked = get_masked(canny)\n",
    "    lines = get_image_With_lines(masked,res)\n",
    "    cv2.imshow('Lane detected',lines)\n",
    "    if cv2.waitKey(1) & 0xFF == ord('q'): #press q to exit\n",
    "        break\n",
    "road.release()    \n",
    "cv2.destroyAllWindows()    "
   ]
  },
  {
   "cell_type": "markdown",
   "metadata": {},
   "source": [
    "To save the recorded lanes in a video"
   ]
  },
  {
   "cell_type": "code",
   "execution_count": 9,
   "metadata": {},
   "outputs": [],
   "source": [
    "# reader = imageio.get_reader('road.mp4')\n",
    "# fps = reader.get_meta_data()['fps']\n",
    "# writer = imageio.get_writer('lane_detected.mp4',fps=fps)\n",
    "# for i,frame in enumerate(reader):\n",
    "#     res= cv2.resize(frame,None,fx=0.35,fy=0.35,interpolation=cv2.INTER_CUBIC)\n",
    "#     gray = get_gray(res)\n",
    "#     blur = get_blur(gray)\n",
    "#     canny = get_canny(blur)\n",
    "#     masked = get_masked(canny)\n",
    "#     lines = get_image_With_lines(masked,res)\n",
    "#     writer.append_data(lines)\n",
    "# writer.close()     \n",
    "# print('Done')"
   ]
  },
  {
   "cell_type": "markdown",
   "metadata": {},
   "source": [
    "To detect lanes in Live"
   ]
  },
  {
   "cell_type": "code",
   "execution_count": 10,
   "metadata": {},
   "outputs": [],
   "source": [
    "#Lane detection in the video from webcam\n",
    "# video = cv2.VideoCapture(1)\n",
    "# while True:\n",
    "#     _,frame = video.read()\n",
    "#     res= cv2.resize(frame,None,fx=0.5,fy=0.5,interpolation=cv2.INTER_CUBIC)\n",
    "#     gray = get_gray(res)\n",
    "#     blur = get_blur(gray)\n",
    "#     canny = get_canny(blur)\n",
    "#     masked = get_masked(canny)\n",
    "#     lines = get_image_With_lines(masked,res)\n",
    "#     cv2.imshow('Lane detected',lines)\n",
    "#     if cv2.waitKey(1) & 0xFF == ord('q'): #press q to exit\n",
    "#         break\n",
    "# road.release()    \n",
    "# cv2.destroyAllWindows()    "
   ]
  },
  {
   "cell_type": "markdown",
   "metadata": {},
   "source": [
    "To detect lanes in image"
   ]
  },
  {
   "cell_type": "code",
   "execution_count": 11,
   "metadata": {},
   "outputs": [],
   "source": [
    "#Manually adjust the values of ROI because the view point my change\n",
    "# frame = cv2.imread('image_lane_c.jpg')\n",
    "# # res = cv2.resize(frame,None,fx=0.5,fy=0.5,interpolation=cv2.INTER_CUBIC)\n",
    "# gray = get_gray(frame)\n",
    "# blur = get_blur(gray)\n",
    "# canny = get_canny(blur)\n",
    "# masked = get_masked(canny)\n",
    "# lines = get_image_With_lines(masked,frame)\n",
    "# cv2.imshow('Lane detected',lines)\n",
    "# cv2.waitKey()\n",
    "# cv2.destroyAllWindows()"
   ]
  }
 ],
 "metadata": {
  "kernelspec": {
   "display_name": "CVenv",
   "language": "python",
   "name": "python3"
  },
  "language_info": {
   "codemirror_mode": {
    "name": "ipython",
    "version": 3
   },
   "file_extension": ".py",
   "mimetype": "text/x-python",
   "name": "python",
   "nbconvert_exporter": "python",
   "pygments_lexer": "ipython3",
   "version": "3.11.4"
  }
 },
 "nbformat": 4,
 "nbformat_minor": 2
}
